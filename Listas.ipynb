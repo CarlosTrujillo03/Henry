{
 "cells": [
  {
   "cell_type": "markdown",
   "metadata": {},
   "source": [
    "1. Se crea una lista con el signo []\n",
    "2. No se puede crear con el nombre: list es un nombre reservado\n",
    "3. Se puede crear con comillas sencillas: '' o dobles: \"\"\n",
    "4. El primer el elemento de la lista es 0"
   ]
  },
  {
   "cell_type": "code",
   "execution_count": 16,
   "metadata": {},
   "outputs": [],
   "source": [
    "Lista = ['Carlos','Eduardo','Trujillo','Cortes']"
   ]
  },
  {
   "cell_type": "markdown",
   "metadata": {},
   "source": [
    "5. Imprimir el primero elemento de la lista\n",
    "6. Imprimir el segundo de la lista al tercero"
   ]
  },
  {
   "cell_type": "code",
   "execution_count": 17,
   "metadata": {},
   "outputs": [
    {
     "name": "stdout",
     "output_type": "stream",
     "text": [
      "Eduardo\n",
      "['Eduardo', 'Trujillo']\n"
     ]
    }
   ],
   "source": [
    "print(Lista[1]) # Punto: 5\n",
    "print(Lista[1:3]) # Punto: 6"
   ]
  },
  {
   "cell_type": "markdown",
   "metadata": {},
   "source": [
    "7. Visualizar el tipo de objeto"
   ]
  },
  {
   "cell_type": "code",
   "execution_count": 18,
   "metadata": {},
   "outputs": [
    {
     "name": "stdout",
     "output_type": "stream",
     "text": [
      "<class 'list'>\n"
     ]
    }
   ],
   "source": [
    "print(type(Lista))"
   ]
  },
  {
   "cell_type": "markdown",
   "metadata": {},
   "source": [
    "8. Visualizar todos los elementos a partir del primero.\n",
    "9. visualizar los primeros 2 elementos de la lista."
   ]
  },
  {
   "cell_type": "code",
   "execution_count": 19,
   "metadata": {},
   "outputs": [
    {
     "name": "stdout",
     "output_type": "stream",
     "text": [
      "['Eduardo', 'Trujillo', 'Cortes']\n",
      "['Carlos', 'Eduardo']\n"
     ]
    }
   ],
   "source": [
    "print(Lista[1:]) # Punto: 8\n",
    "print(Lista[:2]) # Punto: 9"
   ]
  },
  {
   "cell_type": "markdown",
   "metadata": {},
   "source": [
    "10. Agregar un elemento a la lista.\n",
    "11. Con append deja ingresar un elemento ya existente, duplicandolo."
   ]
  },
  {
   "cell_type": "code",
   "execution_count": 20,
   "metadata": {},
   "outputs": [
    {
     "name": "stdout",
     "output_type": "stream",
     "text": [
      "['Carlos', 'Eduardo', 'Trujillo', 'Cortes', 'Bogotá']\n"
     ]
    }
   ],
   "source": [
    "Lista.append('Bogotá')\n",
    "print(Lista)"
   ]
  },
  {
   "cell_type": "markdown",
   "metadata": {},
   "source": [
    "12. Insertar un elemento en cualquier posición de acuerdo al indice."
   ]
  },
  {
   "cell_type": "code",
   "execution_count": 22,
   "metadata": {},
   "outputs": [
    {
     "name": "stdout",
     "output_type": "stream",
     "text": [
      "['Nombres:', 'Carlos', 'Eduardo', 'Apellidos:', 'Trujillo', 'Cortes', 'Bogotá']\n"
     ]
    }
   ],
   "source": [
    "Lista.insert(0,'Nombres:')\n",
    "Lista.insert(3,'Apellidos:')\n",
    "print(Lista)"
   ]
  },
  {
   "cell_type": "markdown",
   "metadata": {},
   "source": [
    "13. Unir otra lista con la ya creada y duplica los valores."
   ]
  },
  {
   "cell_type": "code",
   "execution_count": 38,
   "metadata": {},
   "outputs": [
    {
     "name": "stdout",
     "output_type": "stream",
     "text": [
      "['Nombres:', 'Carlos', 'Eduardo', 'Apellidos:', 'Trujillo', 'Cortes', 'Bogotá', 'Medellin', 'Ibague']\n"
     ]
    }
   ],
   "source": [
    "Lista.extend(['Medellin','Ibague'])\n",
    "print(Lista)"
   ]
  },
  {
   "cell_type": "markdown",
   "metadata": {},
   "source": [
    "14. Eliminar elementos en la lista.\n",
    "15. Solo deja eliminarse un elemento asi este repetido con la función: remove"
   ]
  },
  {
   "cell_type": "code",
   "execution_count": 36,
   "metadata": {},
   "outputs": [],
   "source": [
    "Lista.remove('Medellin')\n",
    "Lista.remove('Ibague')\n",
    "print(Lista)"
   ]
  },
  {
   "cell_type": "markdown",
   "metadata": {},
   "source": [
    "16. Encontrar el indice, encuentra el primer elemento asi este duplicado."
   ]
  },
  {
   "cell_type": "code",
   "execution_count": 39,
   "metadata": {},
   "outputs": [
    {
     "data": {
      "text/plain": [
       "7"
      ]
     },
     "execution_count": 39,
     "metadata": {},
     "output_type": "execute_result"
    }
   ],
   "source": [
    "Lista.index('Medellin')"
   ]
  },
  {
   "cell_type": "markdown",
   "metadata": {},
   "source": [
    "17. ¿Que sucede si buscamos un elemento que no existe?"
   ]
  },
  {
   "cell_type": "code",
   "execution_count": 40,
   "metadata": {},
   "outputs": [
    {
     "ename": "ValueError",
     "evalue": "'Edad' is not in list",
     "output_type": "error",
     "traceback": [
      "\u001b[1;31m---------------------------------------------------------------------------\u001b[0m",
      "\u001b[1;31mValueError\u001b[0m                                Traceback (most recent call last)",
      "\u001b[1;32mc:\\Henry\\Python-PrepCourse\\Estructura_de_Datos.ipynb Celda 20\u001b[0m in \u001b[0;36m<cell line: 1>\u001b[1;34m()\u001b[0m\n\u001b[1;32m----> <a href='vscode-notebook-cell:/c%3A/Henry/Python-PrepCourse/Estructura_de_Datos.ipynb#X34sZmlsZQ%3D%3D?line=0'>1</a>\u001b[0m Lista\u001b[39m.\u001b[39;49mindex(\u001b[39m'\u001b[39;49m\u001b[39mEdad\u001b[39;49m\u001b[39m'\u001b[39;49m)\n",
      "\u001b[1;31mValueError\u001b[0m: 'Edad' is not in list"
     ]
    }
   ],
   "source": [
    "Lista.index('Edad')"
   ]
  },
  {
   "cell_type": "markdown",
   "metadata": {},
   "source": [
    "18. Extraer el último registro de la lista."
   ]
  },
  {
   "cell_type": "code",
   "execution_count": 41,
   "metadata": {},
   "outputs": [
    {
     "name": "stdout",
     "output_type": "stream",
     "text": [
      "Ibague\n"
     ]
    }
   ],
   "source": [
    "print(Lista.pop())"
   ]
  },
  {
   "cell_type": "markdown",
   "metadata": {},
   "source": [
    "19. Mostrar la lista multiplicada."
   ]
  },
  {
   "cell_type": "code",
   "execution_count": 43,
   "metadata": {},
   "outputs": [
    {
     "name": "stdout",
     "output_type": "stream",
     "text": [
      "['Nombres:', 'Carlos', 'Eduardo', 'Apellidos:', 'Trujillo', 'Cortes', 'Bogotá', 'Medellin', 'Nombres:', 'Carlos', 'Eduardo', 'Apellidos:', 'Trujillo', 'Cortes', 'Bogotá', 'Medellin', 'Nombres:', 'Carlos', 'Eduardo', 'Apellidos:', 'Trujillo', 'Cortes', 'Bogotá', 'Medellin', 'Nombres:', 'Carlos', 'Eduardo', 'Apellidos:', 'Trujillo', 'Cortes', 'Bogotá', 'Medellin']\n"
     ]
    }
   ],
   "source": [
    "print(Lista*4)"
   ]
  }
 ],
 "metadata": {
  "kernelspec": {
   "display_name": "Python 3.10.6 64-bit",
   "language": "python",
   "name": "python3"
  },
  "language_info": {
   "codemirror_mode": {
    "name": "ipython",
    "version": 3
   },
   "file_extension": ".py",
   "mimetype": "text/x-python",
   "name": "python",
   "nbconvert_exporter": "python",
   "pygments_lexer": "ipython3",
   "version": "3.10.6"
  },
  "orig_nbformat": 4,
  "vscode": {
   "interpreter": {
    "hash": "d3e10ef16274dd72e574b8fa73b58450b957d8421a2901baded3cca26fcf5dda"
   }
  }
 },
 "nbformat": 4,
 "nbformat_minor": 2
}
