{
 "cells": [
  {
   "cell_type": "markdown",
   "metadata": {},
   "source": [
    "1. Se crea una lista con el signo []\n",
    "2. No se puede crear con el nombre: list es un nombre reservado\n",
    "3. Se puede crear con comillas sencillas: '' o dobles: \"\"\n",
    "4. El primer el elemento de la lista es 0"
   ]
  },
  {
   "cell_type": "code",
   "execution_count": 4,
   "metadata": {},
   "outputs": [
    {
     "name": "stdout",
     "output_type": "stream",
     "text": [
      "['Carlos', 'Eduardo', 'Trujillo', 'Cortes']\n"
     ]
    }
   ],
   "source": [
    "Lista = ['Carlos','Eduardo','Trujillo','Cortes']"
   ]
  },
  {
   "cell_type": "markdown",
   "metadata": {},
   "source": [
    "5. Imprimir el primero elemento de la lista\n",
    "6. Imprimir el segundo de la lista al tercero"
   ]
  },
  {
   "cell_type": "code",
   "execution_count": 9,
   "metadata": {},
   "outputs": [
    {
     "name": "stdout",
     "output_type": "stream",
     "text": [
      "Eduardo\n",
      "['Eduardo', 'Trujillo']\n"
     ]
    }
   ],
   "source": [
    "print(Lista[1]) # Punto: 5\n",
    "print(Lista[1:3]) # Punto: 6"
   ]
  },
  {
   "cell_type": "markdown",
   "metadata": {},
   "source": [
    "7. Visualizar el tipo de objeto"
   ]
  },
  {
   "cell_type": "code",
   "execution_count": 10,
   "metadata": {},
   "outputs": [
    {
     "name": "stdout",
     "output_type": "stream",
     "text": [
      "<class 'list'>\n"
     ]
    }
   ],
   "source": [
    "print(type(Lista))"
   ]
  },
  {
   "cell_type": "markdown",
   "metadata": {},
   "source": [
    "8. Visualizar todos los elementos a partir del primero.\n",
    "9. visualizar los primeros 2 elementos de la lista."
   ]
  },
  {
   "cell_type": "code",
   "execution_count": 13,
   "metadata": {},
   "outputs": [
    {
     "name": "stdout",
     "output_type": "stream",
     "text": [
      "['Eduardo', 'Trujillo', 'Cortes']\n",
      "['Carlos', 'Eduardo']\n"
     ]
    }
   ],
   "source": [
    "print(Lista[1:]) # Punto: 8\n",
    "print(Lista[:2]) # Punto: 9"
   ]
  },
  {
   "cell_type": "markdown",
   "metadata": {},
   "source": [
    "10. Agregar un elemento a la lista.\n",
    "11. Con append deja ingresar un elemento ya existente, duplicandolo."
   ]
  },
  {
   "cell_type": "code",
   "execution_count": 14,
   "metadata": {},
   "outputs": [
    {
     "name": "stdout",
     "output_type": "stream",
     "text": [
      "['Carlos', 'Eduardo', 'Trujillo', 'Cortes', 'Bogotá']\n"
     ]
    }
   ],
   "source": [
    "Lista.append('Bogotá')\n",
    "print(Lista)"
   ]
  },
  {
   "cell_type": "markdown",
   "metadata": {},
   "source": [
    "12. Insertar un elemento, pero en la segunda posición."
   ]
  },
  {
   "cell_type": "code",
   "execution_count": 15,
   "metadata": {},
   "outputs": [
    {
     "name": "stdout",
     "output_type": "stream",
     "text": [
      "['Carlos', 'Eduardo', 'Apellidos:', 'Trujillo', 'Cortes', 'Bogotá']\n"
     ]
    }
   ],
   "source": [
    "Lista.insert(2,'Apellidos:')\n",
    "print(Lista)"
   ]
  }
 ],
 "metadata": {
  "kernelspec": {
   "display_name": "Python 3.10.6 64-bit",
   "language": "python",
   "name": "python3"
  },
  "language_info": {
   "codemirror_mode": {
    "name": "ipython",
    "version": 3
   },
   "file_extension": ".py",
   "mimetype": "text/x-python",
   "name": "python",
   "nbconvert_exporter": "python",
   "pygments_lexer": "ipython3",
   "version": "3.10.6"
  },
  "orig_nbformat": 4,
  "vscode": {
   "interpreter": {
    "hash": "d3e10ef16274dd72e574b8fa73b58450b957d8421a2901baded3cca26fcf5dda"
   }
  }
 },
 "nbformat": 4,
 "nbformat_minor": 2
}
